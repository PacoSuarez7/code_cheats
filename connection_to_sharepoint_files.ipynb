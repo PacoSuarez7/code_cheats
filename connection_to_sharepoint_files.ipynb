{
 "cells": [
  {
   "cell_type": "code",
   "execution_count": 9,
   "metadata": {},
   "outputs": [],
   "source": [
    "import io\n",
    "import pandas as pd\n",
    "from office365.runtime.auth.authentication_context import AuthenticationContext\n",
    "from office365.sharepoint.client_context import ClientContext\n",
    "from office365.sharepoint.files.file import File\n",
    "\n",
    "## -- Variables & connections\n",
    "username = ''\n",
    "password = ''\n",
    "url = ''\n",
    "#funciones\n",
    "def connect_to_sharepoint(url_file):\n",
    "   ctx_auth = AuthenticationContext(url_file)\n",
    "   if ctx_auth.acquire_token_for_user(username, password):\n",
    "       ctx = ClientContext(url_file, ctx_auth)\n",
    "       web = ctx.web\n",
    "       ctx.load(web)\n",
    "       ctx.execute_query()\n",
    "   response = File.open_binary(ctx, url_file)\n",
    "   bytes_file_obj = io.BytesIO()\n",
    "   bytes_file_obj.write(response.content)\n",
    "   bytes_file_obj.seek(0)\n",
    "   return(bytes_file_obj)\n",
    "#body\n",
    "df = pd.read_excel(connect_to_sharepoint(url), header=0)"
   ]
  },
  {
   "cell_type": "code",
   "execution_count": null,
   "metadata": {},
   "outputs": [],
   "source": [
    "from office365.runtime.auth.authentication_context import AuthenticationContext\n",
    "from office365.sharepoint.client_context import ClientContext\n",
    "import os\n",
    "\n",
    "#Sharepoint Variables\n",
    "site_url = 'https://company.sharepoint.com/sites/'\n",
    "username = ''\n",
    "password = \"\" \n",
    "folder_url_destination = '/sites/'\n",
    "#Local Variables\n",
    "local_directory = r'C:\\Users\\username\\folder_name' \n",
    "file_name = 'file_name' + '.xlsx'\n",
    "source_path = os.path.join(local_directory, file_name)\n",
    "\n",
    "ctx_auth = AuthenticationContext(site_url)\n",
    "if ctx_auth.acquire_token_for_user(username, password):\n",
    "    ctx = ClientContext(site_url, ctx_auth)\n",
    "    folder = ctx.web.get_folder_by_server_relative_url(folder_url_destination)  \n",
    "\n",
    "    with open(source_path, 'rb') as file_content:\n",
    "        file_name = source_path.split(f'\\\\')[-1]\n",
    "        file_creation_info = {\n",
    "            'FileLeafRef': file_name,\n",
    "            'Content': file_content.read()\n",
    "        }\n",
    "    #print(f'File {file_name} ')\n",
    "    # Upload the file\n",
    "    upload_file = folder.upload_file(file_name, file_creation_info['Content']).execute_query()\n",
    "    print(f'*** - File {file_name} has been uploaded to {folder_url_destination}')\n",
    "else:\n",
    "    print('Authentication failed')"
   ]
  }
 ],
 "metadata": {
  "kernelspec": {
   "display_name": "tigo_ML",
   "language": "python",
   "name": "python3"
  },
  "language_info": {
   "codemirror_mode": {
    "name": "ipython",
    "version": 3
   },
   "file_extension": ".py",
   "mimetype": "text/x-python",
   "name": "python",
   "nbconvert_exporter": "python",
   "pygments_lexer": "ipython3",
   "version": "3.9.18"
  }
 },
 "nbformat": 4,
 "nbformat_minor": 2
}
