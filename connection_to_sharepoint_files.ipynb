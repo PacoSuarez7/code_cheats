{
 "cells": [
  {
   "cell_type": "code",
   "execution_count": 9,
   "metadata": {},
   "outputs": [],
   "source": [
    "import io\n",
    "import pandas as pd\n",
    "from office365.runtime.auth.authentication_context import AuthenticationContext\n",
    "from office365.sharepoint.client_context import ClientContext\n",
    "from office365.sharepoint.files.file import File\n",
    "\n",
    "## -- Variables & connections\n",
    "username = \n",
    "password = \n",
    "url =\n",
    "#funciones\n",
    "def connect_to_sharepoint(url_file):\n",
    "   ctx_auth = AuthenticationContext(url_file)\n",
    "   if ctx_auth.acquire_token_for_user(username, password):\n",
    "       ctx = ClientContext(url_file, ctx_auth)\n",
    "       web = ctx.web\n",
    "       ctx.load(web)\n",
    "       ctx.execute_query()\n",
    "   response = File.open_binary(ctx, url_file)\n",
    "   bytes_file_obj = io.BytesIO()\n",
    "   bytes_file_obj.write(response.content)\n",
    "   bytes_file_obj.seek(0)\n",
    "   return(bytes_file_obj)\n",
    "#body\n",
    "df = pd.read_excel(connect_to_sharepoint(url), header=0)"
   ]
  }
